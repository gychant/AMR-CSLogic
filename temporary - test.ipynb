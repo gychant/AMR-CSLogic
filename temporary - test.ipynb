{
 "cells": [
  {
   "cell_type": "markdown",
   "id": "25afc5ba",
   "metadata": {},
   "source": [
    "# test 1\n",
    "This code comes from amr_verbnet_semantics/test/test_ground_amr.py"
   ]
  },
  {
   "cell_type": "code",
   "execution_count": null,
   "id": "fa8a619a",
   "metadata": {},
   "outputs": [],
   "source": [
    "from amr_verbnet_semantics.core.amr_verbnet_enhance import ground_amr\n",
    "\n",
    "sample_ret = {'coreference': [], 'sentence_parses': [{'text': 'The dresser is made out of maple carefully finished with Danish oil.', 'amr': '# ::tok The dresser is made out of maple carefully finished with Danish oil . <ROOT>\\n# ::node\\t1\\tdresser\\t1-2\\n# ::node\\t2\\tmake-01\\t3-4\\n# ::node\\t3\\tmaple\\t6-7\\n# ::node\\t4\\tcareful\\t7-8\\n# ::node\\t5\\tfinish-01\\t8-9\\n# ::node\\t6\\tcountry\\t10-11\\n# ::node\\t8\\toil\\t11-12\\n# ::node\\t9\\t\"Denmark\"\\t10-11\\n# ::node\\t11\\tname\\t10-11\\n# ::root\\t2\\tmake-01\\n# ::edge\\tmake-01\\tARG1\\tdresser\\t2\\t1\\t\\n# ::edge\\tmake-01\\tARG2\\tmaple\\t2\\t3\\t\\n# ::edge\\tfinish-01\\tmanner\\tcareful\\t5\\t4\\t\\n# ::edge\\tmaple\\tARG1-of\\tfinish-01\\t3\\t5\\t\\n# ::edge\\toil\\tmod\\tcountry\\t8\\t6\\t\\n# ::edge\\tfinish-01\\tARG2\\toil\\t5\\t8\\t\\n# ::edge\\tcountry\\tname\\tname\\t6\\t11\\t\\n# ::edge\\tname\\top1\\t\"Denmark\"\\t11\\t9\\t\\n# ::short\\t{1: \\'d\\', 2: \\'m\\', 3: \\'m2\\', 4: \\'c\\', 5: \\'f\\', 6: \\'c2\\', 8: \\'o\\', 9: \\'x0\\', 11: \\'n\\'}\\t\\n(m / make-01\\n      :ARG1 (d / dresser)\\n      :ARG2 (m2 / maple\\n            :ARG1-of (f / finish-01\\n                  :ARG2 (o / oil\\n                        :mod (c2 / country\\n                              :name (n / name\\n                                    :op1 \"Denmark\")))\\n                  :manner (c / careful))))\\n\\n', 'pb_vn_mappings': {'make.01': [{'mapping': 'build-26.1-1', 'source': 'verbnet3.4'}], 'finish.01': [{'mapping': 'stop-55.4-1-1', 'source': 'verbnet3.4'}]}, 'role_mappings': {'make.01': {':ARG0': [{'vncls': '26.1-1', 'vntheta': 'agent', 'description': 'creator'}], ':ARG1': [{'vncls': '26.1-1', 'vntheta': 'product', 'description': 'creation'}], ':ARG2': [{'vncls': '26.1-1', 'vntheta': 'material', 'description': 'created-from, thing changed'}], ':ARG3': [{'vncls': '26.1-1', 'vntheta': 'beneficiary', 'description': 'benefactive'}]}, 'finish.01': {':ARG0': [{'vncls': '55.4-1', 'vntheta': 'agent', 'description': 'Intentional agent'}], ':ARG1': [{'vncls': '55.4-1', 'vntheta': 'theme', 'description': 'Thing finishing'}]}}, 'amr_cal': [{'predicate': 'make-01', 'arguments': ['m'], 'is_negative': False}, {'predicate': 'dresser', 'arguments': ['d'], 'is_negative': False}, {'predicate': 'maple', 'arguments': ['m2'], 'is_negative': False}, {'predicate': 'finish-01', 'arguments': ['f'], 'is_negative': False}, {'predicate': 'oil', 'arguments': ['o'], 'is_negative': False}, {'predicate': 'country', 'arguments': ['c2'], 'is_negative': False}, {'predicate': 'name', 'arguments': ['n'], 'is_negative': False}, {'predicate': 'careful', 'arguments': ['c'], 'is_negative': False}, {'predicate': 'make-01.arg1', 'arguments': ['m', 'd'], 'is_negative': False}, {'predicate': 'make-01.arg2', 'arguments': ['m', 'm2'], 'is_negative': False}, {'predicate': 'finish-01.arg1', 'arguments': ['f', 'm2'], 'is_negative': False}, {'predicate': 'finish-01.arg2', 'arguments': ['f', 'o'], 'is_negative': False}, {'predicate': 'mod', 'arguments': ['o', 'c2'], 'is_negative': False}, {'predicate': 'name', 'arguments': ['c2', 'n'], 'is_negative': False}, {'predicate': 'manner', 'arguments': ['f', 'c'], 'is_negative': False}], 'sem_cal': {'make.01': {'build-26.1-1': [{'predicate': 'BE', 'arguments': ['Product', 'e1'], 'is_negative': True}, {'predicate': 'DO', 'arguments': ['e2', 'Agent'], 'is_negative': False}, {'predicate': 'BE', 'arguments': ['e3', 'Product'], 'is_negative': False}, {'predicate': 'MADE_OF', 'arguments': ['e3', 'Product', 'Material'], 'is_negative': False}, {'predicate': 'CAUSE', 'arguments': ['e2', 'e3'], 'is_negative': False}, {'predicate': 'COST', 'arguments': ['E', 'Product', 'Asset'], 'is_negative': False}]}, 'finish.01': {'stop-55.4-1-1': [{'predicate': 'DO', 'arguments': ['e1', 'Agent'], 'is_negative': False}, {'predicate': 'CAUSE', 'arguments': ['e2', 'e1'], 'is_negative': False}, {'predicate': 'END', 'arguments': ['E', 'Theme'], 'is_negative': False}]}}, 'unique_sem_cal': [{'make.01': [{'predicate': 'BE', 'arguments': ['Product', 'e1'], 'is_negative': True}, {'predicate': 'DO', 'arguments': ['e2', 'Agent'], 'is_negative': False}, {'predicate': 'BE', 'arguments': ['e3', 'Product'], 'is_negative': False}, {'predicate': 'MADE_OF', 'arguments': ['e3', 'Product', 'Material'], 'is_negative': False}, {'predicate': 'CAUSE', 'arguments': ['e2', 'e3'], 'is_negative': False}, {'predicate': 'COST', 'arguments': ['E', 'Product', 'Asset'], 'is_negative': False}], 'finish.01': [{'predicate': 'DO', 'arguments': ['e1', 'Agent'], 'is_negative': False}, {'predicate': 'CAUSE', 'arguments': ['e2', 'e1'], 'is_negative': False}, {'predicate': 'END', 'arguments': ['E', 'Theme'], 'is_negative': False}]}], 'grounded_stmt': {'make.01': {'build-26.1-1': [[{'predicate': 'BE', 'arguments': ['d', 'e1'], 'is_negative': True}, {'predicate': 'DO', 'arguments': ['e2', 'Agent'], 'is_negative': False}, {'predicate': 'BE', 'arguments': ['e3', 'd'], 'is_negative': False}, {'predicate': 'MADE_OF', 'arguments': ['e3', 'd', 'm2'], 'is_negative': False}, {'predicate': 'CAUSE', 'arguments': ['e2', 'e3'], 'is_negative': False}, {'predicate': 'COST', 'arguments': ['E', 'd', 'Asset'], 'is_negative': False}]]}, 'finish.01': {'stop-55.4-1-1': [[{'predicate': 'DO', 'arguments': ['e1', 'Agent'], 'is_negative': False}, {'predicate': 'CAUSE', 'arguments': ['e2', 'e1'], 'is_negative': False}, {'predicate': 'END', 'arguments': ['E', 'm2'], 'is_negative': False}]]}}, 'unique_grounded_stmt': [{'make.01': [[{'predicate': 'BE', 'arguments': ['d', 'e1'], 'is_negative': True}, {'predicate': 'DO', 'arguments': ['e2', 'Agent'], 'is_negative': False}, {'predicate': 'BE', 'arguments': ['e3', 'd'], 'is_negative': False}, {'predicate': 'MADE_OF', 'arguments': ['e3', 'd', 'm2'], 'is_negative': False}, {'predicate': 'CAUSE', 'arguments': ['e2', 'e3'], 'is_negative': False}, {'predicate': 'COST', 'arguments': ['E', 'd', 'Asset'], 'is_negative': False}]], 'finish.01': [[{'predicate': 'DO', 'arguments': ['e1', 'Agent'], 'is_negative': False}, {'predicate': 'CAUSE', 'arguments': ['e2', 'e1'], 'is_negative': False}, {'predicate': 'END', 'arguments': ['E', 'm2'], 'is_negative': False}]]}], 'amr_cal_str': '[make-01(m), dresser(d), maple(m2), finish-01(f), oil(o), country(c2), name(n), careful(c), make-01.arg1(m, d), make-01.arg2(m, m2), finish-01.arg1(f, m2), finish-01.arg2(f, o), mod(o, c2), name(c2, n), manner(f, c)]', 'sem_cal_str': \"{'make.01': {'build-26.1-1': [NOT(BE(Product, e1)), DO(e2, Agent), BE(e3, Product), MADE_OF(e3, Product, Material), CAUSE(e2, e3), COST(E, Product, Asset)]}, 'finish.01': {'stop-55.4-1-1': [DO(e1, Agent), CAUSE(e2, e1), END(E, Theme)]}}\", 'unique_sem_cal_str': \"[{'make.01': [NOT(BE(Product, e1)), DO(e2, Agent), BE(e3, Product), MADE_OF(e3, Product, Material), CAUSE(e2, e3), COST(E, Product, Asset)], 'finish.01': [DO(e1, Agent), CAUSE(e2, e1), END(E, Theme)]}]\", 'grounded_stmt_str': \"{'make.01': {'build-26.1-1': [[NOT(BE(d, e1)), DO(e2, Agent), BE(e3, d), MADE_OF(e3, d, m2), CAUSE(e2, e3), COST(E, d, Asset)]]}, 'finish.01': {'stop-55.4-1-1': [[DO(e1, Agent), CAUSE(e2, e1), END(E, m2)]]}}\", 'unique_grounded_stmt_str': \"[{'make.01': [[NOT(BE(d, e1)), DO(e2, Agent), BE(e3, d), MADE_OF(e3, d, m2), CAUSE(e2, e3), COST(E, d, Asset)]], 'finish.01': [[DO(e1, Agent), CAUSE(e2, e1), END(E, m2)]]}]\"}]}\n",
    "\n",
    "\n",
    "amr = sample_ret['sentence_parses'][0]['amr']\n",
    "r = ground_amr(amr, verbose=False)\n",
    "print(r)\n",
    "print('grounded_stmt_str', r['grounded_stmt_str'])\n"
   ]
  },
  {
   "cell_type": "markdown",
   "id": "8cf87605",
   "metadata": {},
   "source": [
    "# test 2\n",
    "This code comes from amr_verbnet_semantics/test/test_ground_text_to_verbnet.py"
   ]
  },
  {
   "cell_type": "code",
   "execution_count": null,
   "id": "b6d6dea8",
   "metadata": {},
   "outputs": [],
   "source": [
    "import time\n",
    "\n",
    "from amr_verbnet_semantics.core.amr_verbnet_enhance import ground_text_to_verbnet\n",
    "from amr_verbnet_semantics.service.local_amr import AMRClient\n",
    "\n",
    "parser = AMRClient(use_cuda=False)\n",
    "\n",
    "start = time.time()\n",
    "\n",
    "text=\"You're in a corridor. You can see a shoe cabinet. The shoe cabinet contains a top hat. You lean against the wall, inadvertently pressing a secret button. The wall opens up to reveal a coat hanger. The coat hanger is normal. But the thing is empty. You can make out a hat rack. Looks like someone's already been here and taken everything off it, though. Hm. Oh well You hear a noise behind you and spin around, but you can't see anything other than an umbrella stand. The umbrella stand is usual. But the thing is empty, unfortunately. Hm. Oh well You hear a noise behind you and spin around, but you can't see anything other than a key holder! The key holder is ordinary. But the thing is empty. It would have been so cool if there was stuff on the key holder.\"\n",
    "ret = ground_text_to_verbnet(text, local_amr_client=parser,\n",
    "                             use_coreference=False)\n",
    "print(f\"ret: {ret}\")\n",
    "print(f\"grounded_stmt of last sentence: {ret['sentence_parses'][-1]['grounded_stmt']}\")\n",
    "\n",
    "print(f'finish with {time.time()-start:.3f} seconds')"
   ]
  },
  {
   "cell_type": "markdown",
   "id": "9e3edc56",
   "metadata": {},
   "source": [
    "# test 3\n",
    "This code comes from amr_verbnet_semantics/test/test_query_semantics.py"
   ]
  },
  {
   "cell_type": "code",
   "execution_count": null,
   "id": "ef316d97",
   "metadata": {},
   "outputs": [],
   "source": [
    "from amr_verbnet_semantics.corpus_readers.verbnet import query_semantics\n",
    "\n",
    "\n",
    "verbnet_version = 'verbnet3.4'\n",
    "verbnet_id = 'spray-9.7-2'\n",
    "semantics = query_semantics(verbnet_id, verbnet_version)\n",
    "print(semantics)\n",
    "\n",
    "verbnet_id = 'build-26.1-1'\n",
    "semantics = query_semantics(verbnet_id, verbnet_version)\n",
    "print(semantics)\n",
    "\n",
    "verbnet_id = 'stop-55.4-1-1'\n",
    "semantics = query_semantics(verbnet_id, verbnet_version)\n",
    "print(semantics)"
   ]
  },
  {
   "cell_type": "markdown",
   "id": "c58d1891",
   "metadata": {},
   "source": [
    "# test 4\n",
    "This code comes from amr_verbnet_semantics/test/test_verbnet.py"
   ]
  },
  {
   "cell_type": "code",
   "execution_count": null,
   "id": "27d48d1a",
   "metadata": {},
   "outputs": [],
   "source": [
    "from nltk.corpus.reader import VerbnetCorpusReader\n",
    "from nltk.corpus.util import LazyCorpusLoader\n",
    "\n",
    "verbnet = LazyCorpusLoader(\"verbnet3.4\", VerbnetCorpusReader, r\"(?!\\.).*\\.xml\")\n",
    "print(verbnet.frames(\"escape-51.1-1\"))\n",
    "try:\n",
    "    print(verbnet.frames(\"escape-51.1-2\"))\n",
    "except Exception as e:\n",
    "    print(e)\n",
    "\n",
    "print(verbnet.frames(\"leave-51.2\"))\n",
    "print(verbnet.subclasses(\"escape-51.1-1\"))"
   ]
  },
  {
   "cell_type": "markdown",
   "id": "825db53b",
   "metadata": {},
   "source": [
    "# test 5\n",
    "This code comes from https://github.com/CognitiveHorizons/AMR-CSLogic/blob/rafactoring/amr_verbnet_semantics/test/test_predicate_kb.py The test data in the code comes from Rosario's code. \n",
    "\n",
    "This code doesn't work because it depends on the code I refactored. Please fix the importing part of this code.\n",
    "\n",
    "I have reported a bug related to this code 24 days ago. If that hasn't been fixed yet, please consider fixing this. All you need to do is to check if the return value is empty.\n",
    "> I added some test code. And I found one bug with amr_verbnet_semantics/test/test_query_semantics.py. In the following case, we do obtain an empty list. ground_amr method on amr_verbnet_enhance.py does not assume this result and thorws an error."
   ]
  },
  {
   "cell_type": "code",
   "execution_count": null,
   "id": "e4cfd6ab",
   "metadata": {},
   "outputs": [],
   "source": [
    "# import query_semantics\n",
    "# import query_pb_vn_mapping\n",
    "\n",
    "queries = [\"spray-9.7-2\", \"build-26.1-1\", \"stop-55.4-1-1\"]\n",
    "verbnet_version = 'verbnet3.4'\n",
    "for q in queries:\n",
    "    result = query_semantics(q, verbnet_version)\n",
    "    print(f'query_semantics({q}) = {result}')\n",
    "\n",
    "\n",
    "queries = [\"admire.01\", \"enter.01\", \"possible.01\", \"green.02\", \"make_out.23\", \"admire-31_2\"]\n",
    "for q in queries:\n",
    "    result = query_pb_vn_mapping(q)\n",
    "    print(f'query_pb_vn_mapping({q}) = {result}')    \n",
    "    "
   ]
  },
  {
   "cell_type": "markdown",
   "id": "2ae921f8",
   "metadata": {},
   "source": [
    "# test 6\n",
    "\n",
    "Please check three setnetces written in the [issue](https://github.com/CognitiveHorizons/AMR-CSLogic/issues/1). Are their return values the same with your assumptions?\n",
    "\n",
    "> (1) For observation text like \"You can make out a green shirt\" and \"There isn't a thing there except a fridge\" the output for 'grounded_stmt' is blank.\n",
    "> \n",
    "> (2) For obs: \"You are carrying a blue shoe, a green shirt\", the verbnet predicates failed to bind to the groundings.\n",
    "Grounded smt: {'carry.01': {'carry-11.4': [[{'arguments': ['e1', 'y', '?Initial_Location'], 'is_negative': False, 'predicate': 'HAS_LOCATION'}, {'arguments': ['e2', 'y', '?Initial_Location'], 'is_negative': False, 'predicate': 'HAS_LOCATION'}, {'arguments': ['e3', 'y'], 'is_negative': False, 'predicate': 'DO'}, {'arguments': ['ë4', 'y', 'Trajectory'], 'is_negative': False, 'predicate': 'MOTION'}, {'arguments': ['ë4', 'y', '?Initial_Location'], 'is_negative': True, 'predicate': 'HAS_LOCATION'}, {'arguments': ['ë5', 'y', 'Trajectory'], 'is_negative': False, 'predicate': 'MOTION'}, {'arguments': ['ë5', 'y', '?Initial_Location'], 'is_negative': True, 'predicate': 'HAS_LOCATION'}, {'arguments': ['e6', 'y', '?Destination'], 'is_negative': False, 'predicate': 'HAS_LOCATION'}, {'arguments': ['e7', 'y', '?Destination'], 'is_negative': False, 'predicate': 'HAS_LOCATION'}, {'arguments': ['e3', 'ë4'], 'is_negative': False, 'predicate': 'CAUSE'}, {'arguments': ['ë4', 'ë5'], 'is_negative': False, 'predicate': 'CO-TEMPORAL'}]], 'cost-54.2': [[{'arguments': ['E', 'y', 's'], 'is_negative': False, 'predicate': 'HAS_VAL'}, {'arguments': ['E', 'y', 's2'], 'is_negative': False, 'predicate': 'HAS_VAL'}]], 'fit-54.3': [[{'arguments': ['E', 'y', 's'], 'is_negative': False, 'predicate': 'CAPACITY'}, {'arguments': ['E', 'y', 's2'], 'is_negative': False, 'predicate': 'CAPACITY'}]]}}\n",
    "    \n",
    "    "
   ]
  },
  {
   "cell_type": "markdown",
   "id": "2643f1e0",
   "metadata": {},
   "source": []
  },
  {
   "cell_type": "code",
   "execution_count": null,
   "id": "97537187",
   "metadata": {},
   "outputs": [],
   "source": []
  },
  {
   "cell_type": "code",
   "execution_count": null,
   "id": "c620daf6",
   "metadata": {},
   "outputs": [],
   "source": []
  },
  {
   "cell_type": "code",
   "execution_count": null,
   "id": "d642c237",
   "metadata": {},
   "outputs": [],
   "source": []
  }
 ],
 "metadata": {
  "kernelspec": {
   "display_name": "Python 3",
   "language": "python",
   "name": "python3"
  },
  "language_info": {
   "codemirror_mode": {
    "name": "ipython",
    "version": 3
   },
   "file_extension": ".py",
   "mimetype": "text/x-python",
   "name": "python",
   "nbconvert_exporter": "python",
   "pygments_lexer": "ipython3",
   "version": "3.8.10"
  }
 },
 "nbformat": 4,
 "nbformat_minor": 5
}
