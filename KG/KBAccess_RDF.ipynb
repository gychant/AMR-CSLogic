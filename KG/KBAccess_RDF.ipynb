{
 "cells": [
  {
   "cell_type": "markdown",
   "metadata": {},
   "source": [
    "### UL_KB -- Linguistic resources\n",
    "\n",
    "The current UL_KB includes the following knowledge bases"
   ]
  },
  {
   "cell_type": "markdown",
   "metadata": {},
   "source": [
    "\n",
    "<img src=\"images/UL_KB_Linguistic.png\" alt=\"Drawing\" style=\"width: 800px;\"/>"
   ]
  },
  {
   "cell_type": "code",
   "execution_count": 1,
   "metadata": {},
   "outputs": [
    {
     "name": "stdout",
     "output_type": "stream",
     "text": [
      "Requirement already satisfied: SPARQLWrapper in /Users/rosariouceda-sosa/opt/anaconda3/lib/python3.8/site-packages (1.8.5)\n",
      "Requirement already satisfied: rdflib>=4.0 in /Users/rosariouceda-sosa/opt/anaconda3/lib/python3.8/site-packages (from SPARQLWrapper) (5.0.0)\n",
      "Requirement already satisfied: six in /Users/rosariouceda-sosa/opt/anaconda3/lib/python3.8/site-packages (from rdflib>=4.0->SPARQLWrapper) (1.16.0)\n",
      "Requirement already satisfied: isodate in /Users/rosariouceda-sosa/opt/anaconda3/lib/python3.8/site-packages (from rdflib>=4.0->SPARQLWrapper) (0.6.0)\n",
      "Requirement already satisfied: pyparsing in /Users/rosariouceda-sosa/opt/anaconda3/lib/python3.8/site-packages (from rdflib>=4.0->SPARQLWrapper) (2.4.7)\n"
     ]
    }
   ],
   "source": [
    "!pip install SPARQLWrapper"
   ]
  },
  {
   "cell_type": "code",
   "execution_count": 43,
   "metadata": {},
   "outputs": [],
   "source": [
    "from SPARQLWrapper import SPARQLWrapper, JSON\n",
    "\n",
    "query_prefix =  (\"prefix rrp: <http://www.ibm.com/RRP#> \\n\"  \n",
    "                \"prefix glo: <http://www.ibm.com/GLO_V2#> \\n\"\n",
    "                \"prefix ulvn: <http://www.ibm.com/UL_VN#> \\n\"  \n",
    "                \"prefix ulwn: <http://www.ibm.com/UL_WN#> \\n\"  \n",
    "                \"prefix ulpb: <http://www.ibm.com/UL_PB#> \\n\"  \n",
    "                \"prefix ulkb: <http://www.ibm.com/UL_KB#> \\n\")\n",
    "\n",
    "#THIS IS THE SERVER \n",
    "sparql = SPARQLWrapper(\"http://goedel.sl.cloud9.ibm.com:9999/blazegraph/namespace/UL_KB_V1\")\n",
    "#THIS IS A LOCAL VERSION (ROSARIO'S)\n",
    "#sparql = SPARQLWrapper(\"http://127.0.0.1:9999/blazegraph/namespace/UL_KB_V0\")"
   ]
  },
  {
   "cell_type": "markdown",
   "metadata": {},
   "source": [
    "## Querying the graph in one step: From 'enter.01' in Propbank to Verbnet class and semantic roles\n",
    "The following query does this in one shot. If a verbnet class exists, it will produce a mapping. Notice that here two classes are mapped. Only the first one has explicit semantic role mappings. \n"
   ]
  },
  {
   "cell_type": "code",
   "execution_count": 80,
   "metadata": {},
   "outputs": [
    {
     "name": "stdout",
     "output_type": "stream",
     "text": [
      "ARG0\t(escape-51.1-2, ThemRole(Theme))\n",
      "ARG1\t(escape-51.1-2, ThemRole(Destination))\n"
     ]
    }
   ],
   "source": [
    "query_text = \"\"\"SELECT DISTINCT ?verb ?pbSemRole ?vnVerbLabel ?vnParamLabel WHERE {   \n",
    "  ?verb rdfs:label \"enter.01\" . \n",
    "  #?verb rrp:inKB rrp:PropBank .\n",
    "  ?verb rrp:hasParameter ?pbParam . \n",
    "  ?pbParam rdfs:label ?pbSemRole . \n",
    "  OPTIONAL {\n",
    "  \t?vnVerb rrp:inKB rrp:VerbNet . \n",
    "  \t?vnVerb rdfs:label ?vnVerbLabel . \n",
    "  \t?vnVerb rrp:hasComponent ?vnFrame . \n",
    "  \t?vnFrame rrp:hasComponent ?semPred . \n",
    "  \t?semPred rrp:hasParameter ?vnParam . \n",
    "  \t?pbParam rrp:mapsTo ?vnParam . \n",
    "    ?vnParam rdfs:label ?vnParamLabel . \n",
    "   } \n",
    "  } \"\"\"\n",
    "        \n",
    "sparql.setQuery(query_prefix + query_text) \n",
    "sparql.setReturnFormat(JSON)\n",
    "results = sparql.query().convert()\n",
    "\n",
    "for result in results[\"results\"][\"bindings\"]:       \n",
    "       pbSemRole = result[\"pbSemRole\"][\"value\"] \n",
    "       vnVerbLabel = vnParamLabel = \"\"\n",
    "       if \"vnVerbLabel\" in result : \n",
    "           vnVerbLabel = result[\"vnVerbLabel\"][\"value\"]\n",
    "       if 'vnParamLabel' in result: \n",
    "           vnParamLabel = result[\"vnParamLabel\"][\"value\"]\n",
    "       print(pbSemRole + \"\\t(\" + vnVerbLabel + \", \" + vnParamLabel + \")\")"
   ]
  },
  {
   "cell_type": "markdown",
   "metadata": {},
   "source": [
    "### Query the KG by string search\n",
    "If you want to make a query by string, this query may give you more results, but it can help in browsing the KG"
   ]
  },
  {
   "cell_type": "code",
   "execution_count": 81,
   "metadata": {},
   "outputs": [
    {
     "name": "stdout",
     "output_type": "stream",
     "text": [
      "enter.01 ARG0\t(escape-51.1-2, Theme)\n",
      "enter.01 ARG1\t(escape-51.1-2, Destination)\n",
      "enter.01 ARG0\t(escape-51.1, )\n",
      "enter.01 ARG1\t(escape-51.1, )\n",
      "enter.01 ARG0\t(escape-51.1-1, )\n",
      "enter.01 ARG1\t(escape-51.1-1, )\n",
      "enter.01 ARG0\t(escape-51.1-1-1, )\n",
      "enter.01 ARG1\t(escape-51.1-1-1, )\n",
      "enter.01 ARG0\t(escape-51.1-1-2, )\n",
      "enter.01 ARG1\t(escape-51.1-1-2, )\n",
      "enter.01 ARG0\t(escape-51.1-1-3, )\n",
      "enter.01 ARG1\t(escape-51.1-1-3, )\n",
      "enter.01 ARG0\t(escape-51.1-3, )\n",
      "enter.01 ARG1\t(escape-51.1-3, )\n",
      "entertain.01 ARG0\t(amuse-31.1, Stimulus)\n",
      "entertain.01 ARG1\t(amuse-31.1, Experiencer)\n",
      "entertain.01 ARG2\t(amuse-31.1, )\n"
     ]
    }
   ],
   "source": [
    "query_text = \"\"\"SELECT DISTINCT  ?label ?pbVerb ?pbSemRole ?vnVerbLabel ?vnSemRole WHERE {\n",
    "   \n",
    "  ?pbVerb rdfs:label ?label. \n",
    "  FILTER regex(?label, \"^enter\",\"i\")  . \n",
    "  ?pbVerb rrp:hasParameter ?pbParam . \n",
    "  ?pbVerb rrp:inKB rrp:PropBank .\n",
    "  ?pbParam rdfs:label ?pbSemRole .\n",
    "  \n",
    "  ?pbVerb rrp:hasMapping ?mapping . \n",
    "  ?vnVerb rrp:hasMapping ?mapping .\n",
    "  \n",
    "  ?vnVerb rrp:inKB rrp:VerbNet . \n",
    "  ?vnVerb rdfs:label ?vnVerbLabel . \n",
    "     \n",
    "  OPTIONAL {  \n",
    "  ?vnVerb rrp:hasComponent ?vnFrame . \n",
    "  ?vnFrame rrp:hasComponent ?vnPred . \n",
    "  ?vnPred rrp:hasParameter ?vnParam . \n",
    "  ?vnParam rrp:mapsTo ?pbParam . \n",
    "  ?vnParam rrp:varName ?vnSemRole \n",
    "   } \n",
    "  } ORDER BY ?label \"\"\"\n",
    "        \n",
    "sparql.setQuery(query_prefix + query_text) \n",
    "sparql.setReturnFormat(JSON)\n",
    "results = sparql.query().convert()\n",
    "\n",
    "\n",
    "for result in results[\"results\"][\"bindings\"]:\n",
    "       label = result[\"label\"][\"value\"]\n",
    "       pbSemRole = result[\"pbSemRole\"][\"value\"]       \n",
    "       vnVerbLabel = result[\"vnVerbLabel\"][\"value\"]       \n",
    "       if 'vnSemRole' in result: \n",
    "           vnSemRole = result[\"vnSemRole\"][\"value\"]\n",
    "       else:  \n",
    "          vnSemRole = \"\"\n",
    "       print(label + \" \" + pbSemRole + \"\\t(\" + vnVerbLabel + \", \" + vnSemRole + \")\")"
   ]
  },
  {
   "cell_type": "markdown",
   "metadata": {},
   "source": [
    "### Querying the KG in one step-- Verbnet Semantic Predicates (TEXT ONLY)  \n",
    "Lets look at the semantic predicates in escape-51_1. This query returns the text version of the predicates. These can be parsed by value. \n",
    "\n",
    "Notice that the system returns TWO frames that represent two syntactic forms of the verb class 'escape'. In one, neither the Initial_Location, the Trajectory or Destination are known. In the second, the Initial_Location is known ('from France'). The question mark in the predicate variable indicates that it is not present in the frame. Also, the umlaut on top of an event indicates that it is a process that requires a non-zero amount of time. \n",
    "\n",
    "The semantic predicate node ID is also included so it can be queried directly, if needed. We output the identifer part of the URI for simplicity's sake. \n"
   ]
  },
  {
   "cell_type": "code",
   "execution_count": 79,
   "metadata": {},
   "outputs": [],
   "source": [
    "query_text = \"\"\"SELECT DISTINCT  ?example ?semanticPredicate ?predicateText  WHERE {\n",
    "                  ulvn:escape-51_1_2 rrp:hasComponent ?frame . \n",
    "                  ?frame rrp:example ?example . \n",
    "                  ?frame rrp:hasComponent ?semanticPredicate . \n",
    "                  ?semanticPredicate a rrp:SemanticPredicate . \n",
    "                  ?semanticPredicate rrp:textInfo ?predicateText .  \n",
    "                } ORDER BY ?frame\n",
    "                  \"\"\"\n",
    "        \n",
    "sparql.setQuery(query_prefix + query_text) \n",
    "sparql.setReturnFormat(JSON)\n",
    "results = sparql.query().convert()\n",
    "\n",
    "\n",
    "for result in results[\"results\"][\"bindings\"]:\n",
    "       predicateText = result[\"predicateText\"][\"value\"] \n",
    "       example = result[\"example\"][\"value\"]\n",
    "       semantic_predicate = result[\"semanticPredicate\"][\"value\"]\n",
    "       print(example + \"\\t\" + semantic_predicate.split('#')[1] + \"\\t\" + predicateText)"
   ]
  },
  {
   "cell_type": "markdown",
   "metadata": {},
   "source": [
    "### Step-by-step: Verbnet classes for a propbank verb\n",
    "\n",
    "The queries that follow explore the mappings between the Propbank verb and the Verbnet verbs and illustrate how the graph is built. \n",
    "To query for Verbnet classes associated to \"enter.01\", the query below can be issued. Here we return the verb names from Verbnet (escape-51.1-1) and the graph node URIs for those verbs (http://www.ibm.com/XXXXX) You can use these identifiers to query the nodes directly. \n",
    "\n"
   ]
  },
  {
   "cell_type": "code",
   "execution_count": 72,
   "metadata": {},
   "outputs": [
    {
     "name": "stdout",
     "output_type": "stream",
     "text": [
      "Verbnet Class = escape-51.1 , graph node = http://www.ibm.com/UL_VN#escape-51_1\n",
      "Verbnet Class = escape-51.1-1 , graph node = http://www.ibm.com/UL_VN#escape-51_1-1\n",
      "Verbnet Class = escape-51.1-1-1 , graph node = http://www.ibm.com/UL_VN#escape-51_1-1-1\n",
      "Verbnet Class = escape-51.1-1-2 , graph node = http://www.ibm.com/UL_VN#escape-51_1-1-2\n",
      "Verbnet Class = escape-51.1-1-3 , graph node = http://www.ibm.com/UL_VN#escape-51_1-1-3\n",
      "Verbnet Class = escape-51.1-2 , graph node = http://www.ibm.com/UL_VN#escape-51_1-2\n",
      "Verbnet Class = escape-51.1-3 , graph node = http://www.ibm.com/UL_VN#escape-51_1-3\n"
     ]
    }
   ],
   "source": [
    " query_text = \"\"\"SELECT DISTINCT  ?vnClassNODE ?vnClassLabel  WHERE {\n",
    "                  ?entity rdfs:label \"enter.01\" . \n",
    "                  ?entity rrp:hasMapping ?mapping . \n",
    "                  ?vnClassNODE rrp:hasMapping ?mapping . \n",
    "                  ?vnClassNODE rrp:inKB rrp:VerbNet . \n",
    "                  ?vnClassNODE rdfs:label ?vnClassLabel . \n",
    "                } \"\"\"\n",
    "        \n",
    "sparql.setQuery(query_prefix + query_text) \n",
    "sparql.setReturnFormat(JSON)\n",
    "results = sparql.query().convert()\n",
    "\n",
    "\n",
    "for result in results[\"results\"][\"bindings\"]:\n",
    "       vnClassNODE = result[\"vnClassNODE\"][\"value\"] \n",
    "       vnClassLabel = result[\"vnClassLabel\"][\"value\"] \n",
    "       print(\"Verbnet Class = \" + vnClassLabel + \" , graph node = \" + vnClassNODE)\n",
    "       "
   ]
  },
  {
   "cell_type": "markdown",
   "metadata": {},
   "source": [
    "### Step by step -- Semantic Predicates for a Verbnet class (graph nodes)\n",
    "\n",
    "In the example above, we have obtained the text representation of the predicates, but these predicates are also stored in their own nodes. The query below allows the user to retrieve these independently. The last number of the predicate node id refers to its order.  "
   ]
  },
  {
   "cell_type": "code",
   "execution_count": 88,
   "metadata": {},
   "outputs": [
    {
     "name": "stdout",
     "output_type": "stream",
     "text": [
      "The prisoners advanced.\t has_location\t PARAM [Event, e1])\n",
      "The prisoners advanced.\t has_location\t PARAM [ThemRole, Theme])\n",
      "The prisoners advanced.\t has_location\t PARAM [ThemRole, Initial_Location])\n",
      "The prisoners advanced.\t motion\t PARAM [Event, ë2])\n",
      "The prisoners advanced.\t motion\t PARAM [ThemRole, Theme])\n",
      "The prisoners advanced.\t motion\t PARAM [ThemRole, Trajectory])\n",
      "The prisoners advanced.\tNOT has_location\t PARAM [Event, e2])\n",
      "The prisoners advanced.\tNOT has_location\t PARAM [ThemRole, Theme])\n",
      "The prisoners advanced.\tNOT has_location\t PARAM [ThemRole, Initial_Location])\n",
      "The prisoners advanced.\t has_location\t PARAM [Event, e3])\n",
      "The prisoners advanced.\t has_location\t PARAM [ThemRole, Theme])\n",
      "The prisoners advanced.\t has_location\t PARAM [ThemRole, Destination])\n",
      "He came from France.\t has_location\t PARAM [Event, e1])\n",
      "He came from France.\t has_location\t PARAM [ThemRole, Theme])\n",
      "He came from France.\t has_location\t PARAM [ThemRole, Initial_Location])\n",
      "He came from France.\t motion\t PARAM [Event, ë2])\n",
      "He came from France.\t motion\t PARAM [ThemRole, Theme])\n",
      "He came from France.\t motion\t PARAM [ThemRole, Trajectory])\n",
      "He came from France.\tNOT has_location\t PARAM [Event, e2])\n",
      "He came from France.\tNOT has_location\t PARAM [ThemRole, Theme])\n",
      "He came from France.\tNOT has_location\t PARAM [ThemRole, Initial_Location])\n",
      "He came from France.\t has_location\t PARAM [Event, e3])\n",
      "He came from France.\t has_location\t PARAM [ThemRole, Theme])\n",
      "He came from France.\t has_location\t PARAM [ThemRole, Destination])\n",
      "The prisoners advanced.\t motion\t PARAM [Event, during(E)])\n",
      "The prisoners advanced.\t motion\t PARAM [ThemRole, Theme])\n",
      "The prisoners advanced.\t path_rel\t PARAM [Event, start(E)])\n",
      "The prisoners advanced.\t path_rel\t PARAM [ThemRole, Theme])\n",
      "The prisoners advanced.\t path_rel\t PARAM [ThemRole, Initial_Location])\n",
      "The prisoners advanced.\t path_rel\t PARAM [Constant, ch_of_loc])\n",
      "The prisoners advanced.\t path_rel\t PARAM [VerbSpecific, prep])\n",
      "The prisoners advanced.\t path_rel\t PARAM [Event, during(E)])\n",
      "The prisoners advanced.\t path_rel\t PARAM [ThemRole, Theme])\n",
      "The prisoners advanced.\t path_rel\t PARAM [ThemRole, Trajectory])\n",
      "The prisoners advanced.\t path_rel\t PARAM [Constant, ch_of_loc])\n",
      "The prisoners advanced.\t path_rel\t PARAM [VerbSpecific, prep])\n",
      "The prisoners advanced.\t path_rel\t PARAM [Event, end(E)])\n",
      "The prisoners advanced.\t path_rel\t PARAM [ThemRole, Theme])\n",
      "The prisoners advanced.\t path_rel\t PARAM [ThemRole, Destination])\n",
      "The prisoners advanced.\t path_rel\t PARAM [Constant, ch_of_loc])\n",
      "The prisoners advanced.\t path_rel\t PARAM [VerbSpecific, prep])\n",
      "He came from France.\t motion\t PARAM [Event, during(E)])\n",
      "He came from France.\t motion\t PARAM [ThemRole, Theme])\n",
      "He came from France.\t path_rel\t PARAM [Event, start(E)])\n",
      "He came from France.\t path_rel\t PARAM [ThemRole, Theme])\n",
      "He came from France.\t path_rel\t PARAM [ThemRole, Initial_Location])\n",
      "He came from France.\t path_rel\t PARAM [Constant, ch_of_loc])\n",
      "He came from France.\t path_rel\t PARAM [VerbSpecific, prep])\n",
      "He came from France.\t path_rel\t PARAM [Event, during(E)])\n",
      "He came from France.\t path_rel\t PARAM [ThemRole, Theme])\n",
      "He came from France.\t path_rel\t PARAM [ThemRole, Trajectory])\n",
      "He came from France.\t path_rel\t PARAM [Constant, ch_of_loc])\n",
      "He came from France.\t path_rel\t PARAM [VerbSpecific, prep])\n",
      "He came from France.\t path_rel\t PARAM [Event, end(E)])\n",
      "He came from France.\t path_rel\t PARAM [ThemRole, Theme])\n",
      "He came from France.\t path_rel\t PARAM [ThemRole, Destination])\n",
      "He came from France.\t path_rel\t PARAM [Constant, ch_of_loc])\n",
      "He came from France.\t path_rel\t PARAM [VerbSpecific, prep])\n",
      "The convict escaped the prison.\t motion\t PARAM [Event, during(E)])\n",
      "The convict escaped the prison.\t motion\t PARAM [ThemRole, Theme])\n",
      "The convict escaped the prison.\t path\t PARAM [ThemRole, Theme])\n",
      "The convict escaped the prison.\t path\t PARAM [ThemRole, Destination])\n",
      "The convict escaped the prison.\t path\t PARAM [ThemRole, Initial_Location])\n",
      "The convict escaped the prison.\t path\t PARAM [Event, during(E)])\n",
      "The convict escaped the prison.\t path\t PARAM [ThemRole, Trajectory])\n"
     ]
    }
   ],
   "source": [
    "query_text = \"\"\"SELECT DISTINCT ?example ?operator ?semanticPredicateLabel ?param ?type ?value  WHERE {\n",
    "                  ulvn:escape_51_1_1 rrp:hasComponent ?frame . \n",
    "                  ?frame rrp:example ?example . \n",
    "                  ?frame rrp:hasComponent ?semanticPredicate . \n",
    "                  ?semanticPredicate a rrp:SemanticPredicate .\n",
    "                  ?semanticPredicate rdfs:label ?semanticPredicateLabel. \n",
    "                  ?semanticPredicate rrp:hasParameter ?param . \n",
    "                  OPTIONAL { \n",
    "                    ?semanticPredicate rrp:logicOperatorName ?operator .  \n",
    "                   }\n",
    "                  ?param rrp:varType ?type . \n",
    "                  ?param rrp:varName ?value . \n",
    "                  ?semanticPredicate rrp:textInfo ?predicateText .  \n",
    "                } ORDER BY ?semanticPredicate\n",
    "                  \"\"\"\n",
    "        \n",
    "sparql.setQuery(query_prefix + query_text) \n",
    "sparql.setReturnFormat(JSON)\n",
    "results = sparql.query().convert()\n",
    "\n",
    "\n",
    "for result in results[\"results\"][\"bindings\"]:\n",
    "       example = result[\"example\"][\"value\"]\n",
    "       if not \"operator\" in result :\n",
    "            operator = \"\" \n",
    "       else : \n",
    "            operator = result[\"operator\"][\"value\"]\n",
    "       typeR = result[\"type\"][\"value\"]\n",
    "       valueR = result[\"value\"][\"value\"]\n",
    "       semantic_predicate_label = result[\"semanticPredicateLabel\"][\"value\"]\n",
    "       print(example + \"\\t\" + operator + \" \" + semantic_predicate_label + \"\\t\" +  \" PARAM [\" + typeR + \", \" + valueR + \"])\")"
   ]
  },
  {
   "cell_type": "markdown",
   "metadata": {},
   "source": [
    "### Use a JSON-like format for the query output\n",
    "\n",
    "Same query as before but now data is in dict format\n"
   ]
  },
  {
   "cell_type": "code",
   "execution_count": 89,
   "metadata": {},
   "outputs": [
    {
     "name": "stdout",
     "output_type": "stream",
     "text": [
      "[{'example': 'The prisoners advanced.', 'predicates': [{'label': 'has_location', 'params': [{'type': 'Event', 'value': 'e1', 'predicate': 'http://www.ibm.com/UL_VN#escape_51_1_1_0_1_fr_1155_pred_1'}, {'type': 'ThemRole', 'value': 'Theme', 'predicate': 'http://www.ibm.com/UL_VN#escape_51_1_1_0_1_fr_1155_pred_1'}, {'type': 'ThemRole', 'value': 'Initial_Location', 'predicate': 'http://www.ibm.com/UL_VN#escape_51_1_1_0_1_fr_1155_pred_1'}]}, {'label': 'motion', 'params': [{'type': 'Event', 'value': 'ë2', 'predicate': 'http://www.ibm.com/UL_VN#escape_51_1_1_0_1_fr_1155_pred_2'}, {'type': 'ThemRole', 'value': 'Theme', 'predicate': 'http://www.ibm.com/UL_VN#escape_51_1_1_0_1_fr_1155_pred_2'}, {'type': 'ThemRole', 'value': 'Trajectory', 'predicate': 'http://www.ibm.com/UL_VN#escape_51_1_1_0_1_fr_1155_pred_2'}]}, {'label': 'has_location', 'operator': 'NOT', 'params': [{'type': 'Event', 'value': 'e2', 'predicate': 'http://www.ibm.com/UL_VN#escape_51_1_1_0_1_fr_1155_pred_3'}, {'type': 'ThemRole', 'value': 'Theme', 'predicate': 'http://www.ibm.com/UL_VN#escape_51_1_1_0_1_fr_1155_pred_3'}, {'type': 'ThemRole', 'value': 'Initial_Location', 'predicate': 'http://www.ibm.com/UL_VN#escape_51_1_1_0_1_fr_1155_pred_3'}]}, {'label': 'has_location', 'params': [{'type': 'Event', 'value': 'e3', 'predicate': 'http://www.ibm.com/UL_VN#escape_51_1_1_0_1_fr_1155_pred_4'}, {'type': 'ThemRole', 'value': 'Theme', 'predicate': 'http://www.ibm.com/UL_VN#escape_51_1_1_0_1_fr_1155_pred_4'}, {'type': 'ThemRole', 'value': 'Destination', 'predicate': 'http://www.ibm.com/UL_VN#escape_51_1_1_0_1_fr_1155_pred_4'}]}]}, {'example': 'He came from France.', 'predicates': [{'label': 'has_location', 'params': [{'type': 'Event', 'value': 'e1', 'predicate': 'http://www.ibm.com/UL_VN#escape_51_1_1_0_1_fr_1156_pred_1'}, {'type': 'ThemRole', 'value': 'Theme', 'predicate': 'http://www.ibm.com/UL_VN#escape_51_1_1_0_1_fr_1156_pred_1'}, {'type': 'ThemRole', 'value': 'Initial_Location', 'predicate': 'http://www.ibm.com/UL_VN#escape_51_1_1_0_1_fr_1156_pred_1'}]}, {'label': 'motion', 'params': [{'type': 'Event', 'value': 'ë2', 'predicate': 'http://www.ibm.com/UL_VN#escape_51_1_1_0_1_fr_1156_pred_2'}, {'type': 'ThemRole', 'value': 'Theme', 'predicate': 'http://www.ibm.com/UL_VN#escape_51_1_1_0_1_fr_1156_pred_2'}, {'type': 'ThemRole', 'value': 'Trajectory', 'predicate': 'http://www.ibm.com/UL_VN#escape_51_1_1_0_1_fr_1156_pred_2'}]}, {'label': 'has_location', 'operator': 'NOT', 'params': [{'type': 'Event', 'value': 'e2', 'predicate': 'http://www.ibm.com/UL_VN#escape_51_1_1_0_1_fr_1156_pred_3'}, {'type': 'ThemRole', 'value': 'Theme', 'predicate': 'http://www.ibm.com/UL_VN#escape_51_1_1_0_1_fr_1156_pred_3'}, {'type': 'ThemRole', 'value': 'Initial_Location', 'predicate': 'http://www.ibm.com/UL_VN#escape_51_1_1_0_1_fr_1156_pred_3'}]}, {'label': 'has_location', 'params': [{'type': 'Event', 'value': 'e3', 'predicate': 'http://www.ibm.com/UL_VN#escape_51_1_1_0_1_fr_1156_pred_4'}, {'type': 'ThemRole', 'value': 'Theme', 'predicate': 'http://www.ibm.com/UL_VN#escape_51_1_1_0_1_fr_1156_pred_4'}, {'type': 'ThemRole', 'value': 'Destination', 'predicate': 'http://www.ibm.com/UL_VN#escape_51_1_1_0_1_fr_1156_pred_4'}]}]}, {'example': 'The prisoners advanced.', 'predicates': [{'label': 'motion', 'params': [{'type': 'Event', 'value': 'during(E)', 'predicate': 'http://www.ibm.com/UL_VN#escape_51_1_1_0_1_fr_3268_pred_1'}, {'type': 'ThemRole', 'value': 'Theme', 'predicate': 'http://www.ibm.com/UL_VN#escape_51_1_1_0_1_fr_3268_pred_1'}]}, {'label': 'path_rel', 'params': [{'type': 'Event', 'value': 'start(E)', 'predicate': 'http://www.ibm.com/UL_VN#escape_51_1_1_0_1_fr_3268_pred_2'}, {'type': 'ThemRole', 'value': 'Theme', 'predicate': 'http://www.ibm.com/UL_VN#escape_51_1_1_0_1_fr_3268_pred_2'}, {'type': 'ThemRole', 'value': 'Initial_Location', 'predicate': 'http://www.ibm.com/UL_VN#escape_51_1_1_0_1_fr_3268_pred_2'}, {'type': 'Constant', 'value': 'ch_of_loc', 'predicate': 'http://www.ibm.com/UL_VN#escape_51_1_1_0_1_fr_3268_pred_2'}, {'type': 'VerbSpecific', 'value': 'prep', 'predicate': 'http://www.ibm.com/UL_VN#escape_51_1_1_0_1_fr_3268_pred_2'}]}, {'label': 'path_rel', 'params': [{'type': 'Event', 'value': 'during(E)', 'predicate': 'http://www.ibm.com/UL_VN#escape_51_1_1_0_1_fr_3268_pred_3'}, {'type': 'ThemRole', 'value': 'Theme', 'predicate': 'http://www.ibm.com/UL_VN#escape_51_1_1_0_1_fr_3268_pred_3'}, {'type': 'ThemRole', 'value': 'Trajectory', 'predicate': 'http://www.ibm.com/UL_VN#escape_51_1_1_0_1_fr_3268_pred_3'}, {'type': 'Constant', 'value': 'ch_of_loc', 'predicate': 'http://www.ibm.com/UL_VN#escape_51_1_1_0_1_fr_3268_pred_3'}, {'type': 'VerbSpecific', 'value': 'prep', 'predicate': 'http://www.ibm.com/UL_VN#escape_51_1_1_0_1_fr_3268_pred_3'}]}, {'label': 'path_rel', 'params': [{'type': 'Event', 'value': 'end(E)', 'predicate': 'http://www.ibm.com/UL_VN#escape_51_1_1_0_1_fr_3268_pred_4'}, {'type': 'ThemRole', 'value': 'Theme', 'predicate': 'http://www.ibm.com/UL_VN#escape_51_1_1_0_1_fr_3268_pred_4'}, {'type': 'ThemRole', 'value': 'Destination', 'predicate': 'http://www.ibm.com/UL_VN#escape_51_1_1_0_1_fr_3268_pred_4'}, {'type': 'Constant', 'value': 'ch_of_loc', 'predicate': 'http://www.ibm.com/UL_VN#escape_51_1_1_0_1_fr_3268_pred_4'}, {'type': 'VerbSpecific', 'value': 'prep', 'predicate': 'http://www.ibm.com/UL_VN#escape_51_1_1_0_1_fr_3268_pred_4'}]}]}, {'example': 'He came from France.', 'predicates': [{'label': 'motion', 'params': [{'type': 'Event', 'value': 'during(E)', 'predicate': 'http://www.ibm.com/UL_VN#escape_51_1_1_0_1_fr_3269_pred_1'}, {'type': 'ThemRole', 'value': 'Theme', 'predicate': 'http://www.ibm.com/UL_VN#escape_51_1_1_0_1_fr_3269_pred_1'}]}, {'label': 'path_rel', 'params': [{'type': 'Event', 'value': 'start(E)', 'predicate': 'http://www.ibm.com/UL_VN#escape_51_1_1_0_1_fr_3269_pred_2'}, {'type': 'ThemRole', 'value': 'Theme', 'predicate': 'http://www.ibm.com/UL_VN#escape_51_1_1_0_1_fr_3269_pred_2'}, {'type': 'ThemRole', 'value': 'Initial_Location', 'predicate': 'http://www.ibm.com/UL_VN#escape_51_1_1_0_1_fr_3269_pred_2'}, {'type': 'Constant', 'value': 'ch_of_loc', 'predicate': 'http://www.ibm.com/UL_VN#escape_51_1_1_0_1_fr_3269_pred_2'}, {'type': 'VerbSpecific', 'value': 'prep', 'predicate': 'http://www.ibm.com/UL_VN#escape_51_1_1_0_1_fr_3269_pred_2'}]}, {'label': 'path_rel', 'params': [{'type': 'Event', 'value': 'during(E)', 'predicate': 'http://www.ibm.com/UL_VN#escape_51_1_1_0_1_fr_3269_pred_3'}, {'type': 'ThemRole', 'value': 'Theme', 'predicate': 'http://www.ibm.com/UL_VN#escape_51_1_1_0_1_fr_3269_pred_3'}, {'type': 'ThemRole', 'value': 'Trajectory', 'predicate': 'http://www.ibm.com/UL_VN#escape_51_1_1_0_1_fr_3269_pred_3'}, {'type': 'Constant', 'value': 'ch_of_loc', 'predicate': 'http://www.ibm.com/UL_VN#escape_51_1_1_0_1_fr_3269_pred_3'}, {'type': 'VerbSpecific', 'value': 'prep', 'predicate': 'http://www.ibm.com/UL_VN#escape_51_1_1_0_1_fr_3269_pred_3'}]}, {'label': 'path_rel', 'params': [{'type': 'Event', 'value': 'end(E)', 'predicate': 'http://www.ibm.com/UL_VN#escape_51_1_1_0_1_fr_3269_pred_4'}, {'type': 'ThemRole', 'value': 'Theme', 'predicate': 'http://www.ibm.com/UL_VN#escape_51_1_1_0_1_fr_3269_pred_4'}, {'type': 'ThemRole', 'value': 'Destination', 'predicate': 'http://www.ibm.com/UL_VN#escape_51_1_1_0_1_fr_3269_pred_4'}, {'type': 'Constant', 'value': 'ch_of_loc', 'predicate': 'http://www.ibm.com/UL_VN#escape_51_1_1_0_1_fr_3269_pred_4'}, {'type': 'VerbSpecific', 'value': 'prep', 'predicate': 'http://www.ibm.com/UL_VN#escape_51_1_1_0_1_fr_3269_pred_4'}]}]}, {'example': 'The convict escaped the prison.', 'predicates': [{'label': 'motion', 'params': [{'type': 'Event', 'value': 'during(E)', 'predicate': 'http://www.ibm.com/UL_VN#escape_51_1_1_0_1_fr_3984_pred_1'}, {'type': 'ThemRole', 'value': 'Theme', 'predicate': 'http://www.ibm.com/UL_VN#escape_51_1_1_0_1_fr_3984_pred_1'}]}, {'label': 'path', 'params': [{'type': 'ThemRole', 'value': 'Theme', 'predicate': 'http://www.ibm.com/UL_VN#escape_51_1_1_0_1_fr_3984_pred_2'}, {'type': 'ThemRole', 'value': 'Destination', 'predicate': 'http://www.ibm.com/UL_VN#escape_51_1_1_0_1_fr_3984_pred_2'}, {'type': 'ThemRole', 'value': 'Initial_Location', 'predicate': 'http://www.ibm.com/UL_VN#escape_51_1_1_0_1_fr_3984_pred_2'}, {'type': 'Event', 'value': 'during(E)', 'predicate': 'http://www.ibm.com/UL_VN#escape_51_1_1_0_1_fr_3984_pred_2'}, {'type': 'ThemRole', 'value': 'Trajectory', 'predicate': 'http://www.ibm.com/UL_VN#escape_51_1_1_0_1_fr_3984_pred_2'}]}]}]\n"
     ]
    }
   ],
   "source": [
    " query_text = \"\"\"SELECT DISTINCT ?example ?operator ?semanticPredicate ?semanticPredicateLabel ?param ?type ?value  WHERE {{\n",
    "                  ulvn:escape_51_1_1 rrp:hasComponent ?frame . \n",
    "                  ?frame rrp:example ?example . \n",
    "                  ?frame rrp:hasComponent ?semanticPredicate . \n",
    "                  ?semanticPredicate a rrp:SemanticPredicate .\n",
    "                  ?semanticPredicate rdfs:label ?semanticPredicateLabel. \n",
    "                  ?semanticPredicate rrp:hasParameter ?param . \n",
    "                  OPTIONAL {{\n",
    "                    ?semanticPredicate rrp:logicOperatorName ?operator .  \n",
    "                   }}\n",
    "                  ?param rrp:varType ?type . \n",
    "                  ?param rrp:varName ?value . \n",
    "                  ?semanticPredicate rrp:textInfo ?predicateText .  \n",
    "                }} ORDER BY ?semanticPredicate\n",
    "                  \"\"\"\n",
    "\n",
    " sparql.setQuery(query_prefix + query_text) \n",
    " sparql.setReturnFormat(JSON)\n",
    " results = sparql.query().convert()\n",
    "\n",
    " output = []\n",
    " thisFrame = {}\n",
    " output.append(thisFrame)\n",
    " curPredicateID = \"\"\n",
    " thisPredicate = {}\n",
    " #PROCESS OUTPUT IN A JSON-FRIENDLY FORMAT\n",
    " for result in results[\"results\"][\"bindings\"]:\n",
    "       example = result[\"example\"][\"value\"]\n",
    "       \n",
    "       if not 'example' in thisFrame : \n",
    "            thisFrame['example'] = example\n",
    "       if example != thisFrame['example'] : \n",
    "          thisFrame = {}         \n",
    "          output.append(thisFrame)\n",
    "          thisFrame['example'] = example \n",
    "          curPredicateID = \"\"\n",
    "       thisPredicateID = result[\"semanticPredicate\"][\"value\"]\n",
    "      \n",
    "       if 'predicates' not in thisFrame: \n",
    "          thisFrame['predicates'] = []        \n",
    "       predicates = thisFrame['predicates']\n",
    "    \n",
    "       if thisPredicateID != curPredicateID : \n",
    "           thisPredicate = {}\n",
    "           predicates.append(thisPredicate)\n",
    "           curPredicateID = thisPredicateID\n",
    "           \n",
    "       #predicateText = result[\"predicateText\"][\"value\"]\n",
    "       predLabel = result[\"semanticPredicateLabel\"][\"value\"]\n",
    "       \n",
    "       thisPredicate['label'] = predLabel\n",
    "       if \"operator\" in result :      \n",
    "           thisPredicate['operator'] = result[\"operator\"][\"value\"] \n",
    "           \n",
    "       if 'params' not in thisPredicate: \n",
    "           thisPredicate['params'] = []\n",
    "       params = thisPredicate['params']\n",
    "       params.append({'type' :result[\"type\"][\"value\"], 'value' : result[\"value\"][\"value\"] , 'predicate' : curPredicateID})\n",
    "       #thisPredicate['type'] = result[\"type\"][\"value\"]\n",
    "       #thisPredicate['value'] = result[\"value\"][\"value\"]         \n",
    "       #print(example + \" \" + \" \" +  thisPredicateID + \" \" +  predLabel + \" \" +  \n",
    "       #      result[\"type\"][\"value\"] + \" \" + result[\"value\"][\"value\"] )\n",
    " print(str(output))               "
   ]
  },
  {
   "cell_type": "markdown",
   "metadata": {},
   "source": [
    "### Step by step ---- Mapping Propbank predicates to Verbnet Predicates\n",
    "\n",
    "In order to obtain the mappings for the semantic roles of a Propbank verb we use the query below. "
   ]
  },
  {
   "cell_type": "code",
   "execution_count": 105,
   "metadata": {},
   "outputs": [
    {
     "name": "stdout",
     "output_type": "stream",
     "text": [
      "advance.01\tPropbank NLTK\t\tPropBank\n",
      "approach.01\tPropbank NLTK\t\tPropBank\n",
      "arrive.01\tPropbank NLTK\t\tPropBank\n",
      "ascend.01\tPropbank NLTK\t\tPropBank\n",
      "bolt.01\tPropbank NLTK\t\tPropBank\n",
      "climb.01\tPropbank NLTK\t\tPropBank\n",
      "come.01\tPropbank NLTK\t\tPropBank\n",
      "cross.02\tPropbank NLTK\t\tPropBank\n",
      "depart.01\tPropbank NLTK\t\tPropBank\n",
      "descend.01\tPropbank NLTK\t\tPropBank\n",
      "disembark.01\tPropbank NLTK\t\tPropBank\n",
      "emerge.01\tPropbank NLTK\t\tPropBank\n",
      "enter.01\tPropbank NLTK\t\tPropBank\n",
      "escape.01\tPropbank NLTK\t\tPropBank\n",
      "exit.01\tPropbank NLTK\t\tPropBank\n",
      "fall.01\tPropbank NLTK\t\tPropBank\n",
      "file.03\tPropbank NLTK\t\tPropBank\n",
      "go.01\tPropbank NLTK\t\tPropBank\n",
      "go.02\tPropbank NLTK\t\tPropBank\n",
      "plunge.02\tPropbank NLTK\t\tPropBank\n",
      "recede.01\tPropbank NLTK\t\tPropBank\n",
      "retreat.01\tPropbank NLTK\t\tPropBank\n",
      "return.01\tPropbank NLTK\t\tPropBank\n",
      "rise.01\tPropbank NLTK\t\tPropBank\n",
      "tumble.01\tPropbank NLTK\t\tPropBank\n",
      "vacate.01\tPropbank NLTK\t\tPropBank\n",
      "withdraw.01\tPropbank NLTK\t\tPropBank\n",
      "escape-51.1-1\tverbnet3.4\t\tVerbNet\n",
      "escape-51.1-1-1\tverbnet3.4\t\tVerbNet\n",
      "escape-51.1-1-2\tverbnet3.4\t\tVerbNet\n",
      "escape-51.1-1-3\tverbnet3.4\t\tVerbNet\n"
     ]
    }
   ],
   "source": [
    "query_text = \"\"\"SELECT DISTINCT  ?otherEntityLabel ?provenance ?KB  WHERE {\n",
    "                  ?entity rdfs:label \"enter.01\" . \n",
    "                  ?entity rrp:hasMapping ?mapping . \n",
    "                  ?otherEntity rrp:hasMapping ?mapping .\n",
    "                  ?otherEntity rrp:provenance ?provenance . \n",
    "                  ?otherEntity rrp:inKB ?KB .               \n",
    "                  ?otherEntity rdfs:label ?otherEntityLabel. \n",
    "                } ORDER BY ?otherEntity\n",
    "                  \"\"\"\n",
    "        \n",
    "sparql.setQuery(query_prefix + query_text) \n",
    "sparql.setReturnFormat(JSON)\n",
    "results = sparql.query().convert()\n",
    "\n",
    "\n",
    "for result in results[\"results\"][\"bindings\"]:\n",
    "       sense = result[\"otherEntityLabel\"][\"value\"] \n",
    "       provenance = result[\"provenance\"][\"value\"]\n",
    "       KB = result[\"KB\"][\"value\"]\n",
    "       print(sense + \"\\t\" + provenance + \"\\t\\t\" + KB.split(\"#\")[1])"
   ]
  },
  {
   "cell_type": "code",
   "execution_count": 40,
   "metadata": {},
   "outputs": [],
   "source": [
    "className = \"absorb-39.8\""
   ]
  },
  {
   "cell_type": "code",
   "execution_count": 42,
   "metadata": {},
   "outputs": [
    {
     "name": "stdout",
     "output_type": "stream",
     "text": [
      "39.8\n"
     ]
    }
   ],
   "source": [
    "print(className.split('-', 1)[1])"
   ]
  },
  {
   "cell_type": "code",
   "execution_count": null,
   "metadata": {},
   "outputs": [],
   "source": []
  }
 ],
 "metadata": {
  "kernelspec": {
   "display_name": "Python 3",
   "language": "python",
   "name": "python3"
  },
  "language_info": {
   "codemirror_mode": {
    "name": "ipython",
    "version": 3
   },
   "file_extension": ".py",
   "mimetype": "text/x-python",
   "name": "python",
   "nbconvert_exporter": "python",
   "pygments_lexer": "ipython3",
   "version": "3.8.3"
  }
 },
 "nbformat": 4,
 "nbformat_minor": 4
}
