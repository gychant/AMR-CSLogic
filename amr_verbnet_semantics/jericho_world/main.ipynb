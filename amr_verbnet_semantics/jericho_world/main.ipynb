{
 "cells": [
  {
   "cell_type": "code",
   "execution_count": 6,
   "metadata": {},
   "outputs": [],
   "source": [
    "import json\n",
    "from pprint import pprint\n",
    "\n",
    "with open(\"./train.json\") as f:\n",
    "    data = json.load(f)\n",
    "\n"
   ]
  },
  {
   "cell_type": "code",
   "execution_count": 8,
   "metadata": {},
   "outputs": [
    {
     "data": {
      "text/plain": [
       "43639"
      ]
     },
     "execution_count": 8,
     "metadata": {},
     "output_type": "execute_result"
    }
   ],
   "source": [
    "len(data)"
   ]
  },
  {
   "cell_type": "code",
   "execution_count": 9,
   "metadata": {},
   "outputs": [
    {
     "ename": "KeyError",
     "evalue": "'graph'",
     "output_type": "error",
     "traceback": [
      "\u001b[0;31m---------------------------------------------------------------------------\u001b[0m",
      "\u001b[0;31mKeyError\u001b[0m                                  Traceback (most recent call last)",
      "\u001b[0;32m<ipython-input-9-052a75fa10eb>\u001b[0m in \u001b[0;36m<module>\u001b[0;34m\u001b[0m\n\u001b[0;32m----> 1\u001b[0;31m \u001b[0mdata\u001b[0m\u001b[0;34m[\u001b[0m\u001b[0;36m0\u001b[0m\u001b[0;34m]\u001b[0m\u001b[0;34m[\u001b[0m\u001b[0;34m\"graph\"\u001b[0m\u001b[0;34m]\u001b[0m\u001b[0;34m\u001b[0m\u001b[0;34m\u001b[0m\u001b[0m\n\u001b[0m",
      "\u001b[0;31mKeyError\u001b[0m: 'graph'"
     ]
    }
   ],
   "source": [
    "data[0][\"graph\"]"
   ]
  },
  {
   "cell_type": "code",
   "execution_count": 10,
   "metadata": {},
   "outputs": [
    {
     "name": "stdout",
     "output_type": "stream",
     "text": [
      "Post Office\n",
      "This is the lobby of the Festeron Post Office. The walls are lined with small, private mailboxes and wanted posters. A service counter runs along the entire length of the room.\n",
      "\n",
      "Your boss, Mr. Crisp, is behind the service counter reading other people's postcards.\n",
      "\n",
      "Mr. Crisp hides the postcards away as you enter. \"Where have you been?\" he barks angrily. \"Daydreaming again, eh? I've been looking everywhere for you!\"\n",
      "\n",
      "(Your score just went up by 1 point! Your total score is 1 out of 100.)\n",
      "\n",
      "What next?\n",
      "\n"
     ]
    }
   ],
   "source": [
    "print(data[1][\"state\"][\"obs\"])"
   ]
  },
  {
   "cell_type": "code",
   "execution_count": 21,
   "metadata": {},
   "outputs": [
    {
     "name": "stdout",
     "output_type": "stream",
     "text": [
      "[['symbols', 'in', 'Secret Entrance'], ['wooden door', 'in', 'Secret Entrance'], ['ground', 'in', 'Secret Entrance'], ['you', 'in', 'Secret Entrance'], ['house', 'in', 'Secret Entrance'], ['Kraxis', 'in', 'Secret Entrance'], ['you', 'have', 'lantern'], ['mountain', 'in', 'Secret Entrance'], ['you', 'have', \"King's Order\"], ['tree', 'in', 'Secret Entrance']]\n"
     ]
    }
   ],
   "source": [
    "print(data[1][\"state\"][\"graph\"])"
   ]
  },
  {
   "cell_type": "code",
   "execution_count": 11,
   "metadata": {},
   "outputs": [
    {
     "name": "stdout",
     "output_type": "stream",
     "text": [
      "dict_keys(['walkthrough_act', 'walkthrough_diff', 'obs', 'loc_desc', 'inv_desc', 'inv_objs', 'inv_attrs', 'location', 'surrounding_objs', 'surrounding_attrs', 'graph', 'valid_acts', 'score'])\n"
     ]
    }
   ],
   "source": [
    "print(data[1][\"state\"].keys())"
   ]
  },
  {
   "cell_type": "code",
   "execution_count": 24,
   "metadata": {},
   "outputs": [
    {
     "name": "stdout",
     "output_type": "stream",
     "text": [
      "{'walkthrough_act': 'push mountain', 'walkthrough_diff': '((), ((65, 18),), ((65, 15),))', 'obs': 'As you touch the finely etched symbol, you hear a click and a whir.  Then the door swings open before you, opening into the abandoned city of Deephome', 'loc_desc': '\\nSecret Entrance\\nThis is a rather dark and small room, having only two exits, back north the way you came, from the ancestral homes of Tana, or through the heavily barred wooden door before you that leads southwest and inward to the abandoned Deephome, abode of the Dwarves in Telleen.  It has been three hundred years since your people lived here.\\n\\nThe heavy door stands open, admitting you into Deephome.', 'inv_desc': \"You are carrying:\\n  King's Order\\n  a lantern (providing light)\", 'inv_objs': {'This is an old and trusty (not rusty) lantern that has been in your family for centuries.  It has yet to shut off at an inopportune moment.  However, there is a saying in your family...\"That lantern is bound to go off at an inopportune time sometime!\"': ['light', 'lantern'], 'The note reads: \"Reclaimer:  You have the esteemed duty to return to our Mountain Kingdom of  Deephome and prepare it for our return.  There are several things a Reclaimer must do:  1.  Restore Power to the City 2.  Restore Water to the city. 3.  Visit each location and make sure it is safe, a quick appraisal should be sufficient.  4.  Open the City Gates once more.   5.  MOST IMPORTANT:  Make sure the city is SAFE to return to.    May the Peace of Kraxis go with you  King Derash of the Mountain Tana, the year 782 SK.\"': ['order']}, 'inv_attrs': {'light': [], 'lantern': ['unlock'], 'order': []}, 'location': {'name': 'Secret Entrance', 'num': 64}, 'surrounding_objs': {'You see nothing special about the southwest wall.': ['southwest'], 'It is the typical human house, maybe two stories.  It is etched into the wood.': ['house'], 'This door is made of thick and sturdy wood.  It has three symbols on it, a tree, a house, and a mountain.': ['wooden', 'door'], 'On the door there are pictures of a mountain, a tree, and a house.': ['symbols'], 'The tree symbol looks as if it were etched into the wood.': ['tree'], 'Its the ground....duh!': ['ground'], 'The mountain looks mighty, a high peak among the clouds.  It is etched into the wood.': ['mountain']}, 'surrounding_attrs': {'southwest': [], 'house': ['unlock'], 'wooden': ['unlock'], 'door': ['unlock'], 'symbols': ['unlock'], 'tree': ['unlock'], 'ground': ['unlock'], 'mountain': ['unlock']}, 'graph': [['symbols', 'in', 'Secret Entrance'], ['wooden door', 'in', 'Secret Entrance'], ['ground', 'in', 'Secret Entrance'], ['you', 'in', 'Secret Entrance'], ['house', 'in', 'Secret Entrance'], ['Kraxis', 'in', 'Secret Entrance'], ['you', 'have', 'lantern'], ['mountain', 'in', 'Secret Entrance'], ['you', 'have', \"King's Order\"], ['tree', 'in', 'Secret Entrance']], 'valid_acts': {'((), (), ())': 'say manaz', '((), ((65, 18),), ((65, 15),))': 'push mountain', '((), (), ((65, 18),))': 'close wooden', '(((20, 70), (59, 70), (60, 70), (65, 70)), ((70, 28),), ())': 'get in southwest', '(((62, 64),), (), ())': 'put light down', '(((63, 64),), (), ())': 'put order down'}, 'score': 6}\n"
     ]
    }
   ],
   "source": [
    "print(data[1][\"next_state\"])"
   ]
  },
  {
   "cell_type": "code",
   "execution_count": null,
   "metadata": {},
   "outputs": [],
   "source": []
  }
 ],
 "metadata": {
  "kernelspec": {
   "display_name": "Python 3",
   "language": "python",
   "name": "python3"
  },
  "language_info": {
   "codemirror_mode": {
    "name": "ipython",
    "version": 3
   },
   "file_extension": ".py",
   "mimetype": "text/x-python",
   "name": "python",
   "nbconvert_exporter": "python",
   "pygments_lexer": "ipython3",
   "version": "3.7.3"
  }
 },
 "nbformat": 4,
 "nbformat_minor": 5
}
